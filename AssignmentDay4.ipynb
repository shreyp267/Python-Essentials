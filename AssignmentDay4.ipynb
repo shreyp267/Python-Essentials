{
  "nbformat": 4,
  "nbformat_minor": 0,
  "metadata": {
    "colab": {
      "name": "AssignmentDay4.ipynb",
      "provenance": [],
      "authorship_tag": "ABX9TyP9XelpLvAl5o+Axwh7TCd3",
      "include_colab_link": true
    },
    "kernelspec": {
      "name": "python3",
      "display_name": "Python 3"
    }
  },
  "cells": [
    {
      "cell_type": "markdown",
      "metadata": {
        "id": "view-in-github",
        "colab_type": "text"
      },
      "source": [
        "<a href=\"https://colab.research.google.com/github/shreyp267/Python-Essentials/blob/master/AssignmentDay4.ipynb\" target=\"_parent\"><img src=\"https://colab.research.google.com/assets/colab-badge.svg\" alt=\"Open In Colab\"/></a>"
      ]
    },
    {
      "cell_type": "code",
      "metadata": {
        "id": "SBh7LlWTubS1",
        "colab_type": "code",
        "colab": {
          "base_uri": "https://localhost:8080/",
          "height": 54
        },
        "outputId": "4986c1af-cdd0-471e-f21e-c01426075b52"
      },
      "source": [
        " for num in range(1042000,702648265):\n",
        "    temp=num\n",
        "    order = len(str(num))\n",
        "    sum=0\n",
        "    while temp>0:\n",
        "        digit=temp%10\n",
        "        sum+=digit**order\n",
        "        temp//=10\n",
        "    if num==sum:\n",
        "        print(\"The First Armstrong Number in a given range : \",sum)\n",
        "        break"
      ],
      "execution_count": 1,
      "outputs": [
        {
          "output_type": "stream",
          "text": [
            "The First Armstrong Number in a given range :  1741725\n"
          ],
          "name": "stdout"
        }
      ]
    }
  ]
}