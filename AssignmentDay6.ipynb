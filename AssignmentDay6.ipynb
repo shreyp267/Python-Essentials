{
  "nbformat": 4,
  "nbformat_minor": 0,
  "metadata": {
    "colab": {
      "name": "AssignmentDay6.ipynb",
      "provenance": [],
      "authorship_tag": "ABX9TyPl+cBzl1afdRB/5P/ifAfm",
      "include_colab_link": true
    },
    "kernelspec": {
      "name": "python3",
      "display_name": "Python 3"
    }
  },
  "cells": [
    {
      "cell_type": "markdown",
      "metadata": {
        "id": "view-in-github",
        "colab_type": "text"
      },
      "source": [
        "<a href=\"https://colab.research.google.com/github/shreyp267/Python-Essentials/blob/master/AssignmentDay6.ipynb\" target=\"_parent\"><img src=\"https://colab.research.google.com/assets/colab-badge.svg\" alt=\"Open In Colab\"/></a>"
      ]
    },
    {
      "cell_type": "code",
      "metadata": {
        "id": "iekU7br8e7ux",
        "colab_type": "code",
        "colab": {
          "base_uri": "https://localhost:8080/",
          "height": 71
        },
        "outputId": "de618051-edea-43ef-a73e-20144bb35959"
      },
      "source": [
        " \n",
        "import math \n",
        " \n",
        "pi = math.pi \n",
        " \n",
        "  \n",
        "# Function to calculate Volume of Cone \n",
        " \n",
        "def volume(r, h): \n",
        " \n",
        "    return (1 / 3) * pi * r * r * h \n",
        " \n",
        "  \n",
        "# Function To Calculate Surface Area of Cone \n",
        " \n",
        "def surfacearea(r, s): \n",
        " \n",
        "    return pi * r * s + pi * r * r \n",
        " \n",
        "  \n",
        "# Driver Code \n",
        " \n",
        "radius = float(5) \n",
        " \n",
        "height = float(12) \n",
        " \n",
        "slat_height = float(13) \n",
        " \n",
        "print( \"Volume Of Cone : \", volume(radius, height) ) \n",
        " \n",
        "print( \"Surface Area Of Cone : \", surfacearea(radius, slat_height) )"
      ],
      "execution_count": 1,
      "outputs": [
        {
          "output_type": "stream",
          "text": [
            "Volume Of Cone :  314.15926535897927\n",
            "Surface Area Of Cone :  282.7433388230814\n"
          ],
          "name": "stdout"
        }
      ]
    }
  ]
}