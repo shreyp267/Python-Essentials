{
  "nbformat": 4,
  "nbformat_minor": 0,
  "metadata": {
    "colab": {
      "name": "Assignmentday8.ipynb",
      "provenance": [],
      "authorship_tag": "ABX9TyOeg74WxAhkz88VGQ98FgS+",
      "include_colab_link": true
    },
    "kernelspec": {
      "name": "python3",
      "display_name": "Python 3"
    }
  },
  "cells": [
    {
      "cell_type": "markdown",
      "metadata": {
        "id": "view-in-github",
        "colab_type": "text"
      },
      "source": [
        "<a href=\"https://colab.research.google.com/github/shreyp267/Python-Essentials/blob/master/Assignmentday8.ipynb\" target=\"_parent\"><img src=\"https://colab.research.google.com/assets/colab-badge.svg\" alt=\"Open In Colab\"/></a>"
      ]
    },
    {
      "cell_type": "code",
      "metadata": {
        "id": "9w7_6Nr3Kw5a",
        "colab_type": "code",
        "colab": {
          "base_uri": "https://localhost:8080/",
          "height": 34
        },
        "outputId": "661cef87-3031-40d4-d43d-46d8e4703f7a"
      },
      "source": [
        " \n",
        "def smart_fibo(num):\n",
        "    def Fibonacci(n):\n",
        "        \n",
        "        if n<=0:\n",
        "            print(\"Incorrect input\")\n",
        "    \n",
        "        elif n==1:\n",
        "            return 0\n",
        " \n",
        "        elif n==2:\n",
        "            return 1\n",
        "        else:\n",
        "            \n",
        "            return Fibonacci(n-1)+Fibonacci(n-2)\n",
        "            return num(n)\n",
        "    return Fibonacci\n",
        "@smart_fibo\n",
        "def fibo(n):\n",
        "    print(\"The number is\",n)\n",
        "fibo(6)"
      ],
      "execution_count": 2,
      "outputs": [
        {
          "output_type": "execute_result",
          "data": {
            "text/plain": [
              "5"
            ]
          },
          "metadata": {
            "tags": []
          },
          "execution_count": 2
        }
      ]
    }
  ]
}